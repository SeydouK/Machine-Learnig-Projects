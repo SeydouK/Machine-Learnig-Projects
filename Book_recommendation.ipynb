{
  "nbformat": 4,
  "nbformat_minor": 0,
  "metadata": {
    "colab": {
      "name": "Book_recommendation.ipynb",
      "provenance": [],
      "collapsed_sections": []
    },
    "kernelspec": {
      "name": "python3",
      "display_name": "Python 3"
    },
    "language_info": {
      "name": "python"
    },
    "accelerator": "GPU",
    "gpuClass": "standard"
  },
  "cells": [
    {
      "cell_type": "code",
      "execution_count": 1,
      "metadata": {
        "id": "67EBaCwzJnpF"
      },
      "outputs": [],
      "source": [
        "# import libraries (you may add additional imports but you may not have to)\n",
        "import numpy as np\n",
        "import pandas as pd\n",
        "from scipy.sparse import csr_matrix\n",
        "from sklearn.neighbors import NearestNeighbors\n",
        "import matplotlib.pyplot as plt"
      ]
    },
    {
      "cell_type": "code",
      "source": [
        "# get data files\n",
        "!wget https://cdn.freecodecamp.org/project-data/books/book-crossings.zip\n",
        "\n",
        "!unzip book-crossings.zip\n",
        "\n",
        "books_filename = 'BX-Books.csv'\n",
        "ratings_filename = 'BX-Book-Ratings.csv'"
      ],
      "metadata": {
        "colab": {
          "base_uri": "https://localhost:8080/"
        },
        "id": "ZPNglJllLI8o",
        "outputId": "fd52370c-7597-44dd-f44a-da5eda0b557d"
      },
      "execution_count": 2,
      "outputs": [
        {
          "output_type": "stream",
          "name": "stdout",
          "text": [
            "--2022-06-28 18:03:38--  https://cdn.freecodecamp.org/project-data/books/book-crossings.zip\n",
            "Resolving cdn.freecodecamp.org (cdn.freecodecamp.org)... 104.26.2.33, 172.67.70.149, 104.26.3.33, ...\n",
            "Connecting to cdn.freecodecamp.org (cdn.freecodecamp.org)|104.26.2.33|:443... connected.\n",
            "HTTP request sent, awaiting response... 200 OK\n",
            "Length: 26085508 (25M) [application/zip]\n",
            "Saving to: ‘book-crossings.zip’\n",
            "\n",
            "book-crossings.zip  100%[===================>]  24.88M   155MB/s    in 0.2s    \n",
            "\n",
            "2022-06-28 18:03:38 (155 MB/s) - ‘book-crossings.zip’ saved [26085508/26085508]\n",
            "\n",
            "Archive:  book-crossings.zip\n",
            "  inflating: BX-Book-Ratings.csv     \n",
            "  inflating: BX-Books.csv            \n",
            "  inflating: BX-Users.csv            \n"
          ]
        }
      ]
    },
    {
      "cell_type": "code",
      "source": [
        "# import csv data into dataframes\n",
        "df_books = pd.read_csv(\n",
        "    books_filename,\n",
        "    encoding = \"ISO-8859-1\",\n",
        "    sep=\";\",\n",
        "    header=0,\n",
        "    names=['isbn', 'title', 'author'],\n",
        "    usecols=['isbn', 'title', 'author'],\n",
        "    dtype={'isbn': 'str', 'title': 'str', 'author': 'str'})\n",
        "\n",
        "df_ratings = pd.read_csv(\n",
        "    ratings_filename,\n",
        "    encoding = \"ISO-8859-1\",\n",
        "    sep=\";\",\n",
        "    header=0,\n",
        "    names=['user', 'isbn', 'rating'],\n",
        "    usecols=['user', 'isbn', 'rating'],\n",
        "    dtype={'user': 'int32', 'isbn': 'str', 'rating': 'float32'})"
      ],
      "metadata": {
        "id": "5Mpzhg0cLLbv"
      },
      "execution_count": 3,
      "outputs": []
    },
    {
      "cell_type": "code",
      "source": [
        "# add your code here - consider creating a new cell for each section of code\n",
        "rating_books = pd.merge(df_ratings, df_books,on='isbn')"
      ],
      "metadata": {
        "id": "J8QFGB3PLPRZ"
      },
      "execution_count": 4,
      "outputs": []
    },
    {
      "cell_type": "code",
      "source": [
        "rating_books['isbn'].value_counts()"
      ],
      "metadata": {
        "colab": {
          "base_uri": "https://localhost:8080/"
        },
        "id": "HgL6mlBCScdP",
        "outputId": "a8e86ea3-fed2-41d6-c971-301bf4ab65e7"
      },
      "execution_count": 5,
      "outputs": [
        {
          "output_type": "execute_result",
          "data": {
            "text/plain": [
              "0971880107    2502\n",
              "0316666343    1295\n",
              "0385504209     883\n",
              "0060928336     732\n",
              "0312195516     723\n",
              "              ... \n",
              "0739431536       1\n",
              "072324801X       1\n",
              "1401300006       1\n",
              "1568659830       1\n",
              "0806917695       1\n",
              "Name: isbn, Length: 270170, dtype: int64"
            ]
          },
          "metadata": {},
          "execution_count": 5
        }
      ]
    },
    {
      "cell_type": "code",
      "source": [
        "# Delete duplicates\n",
        "rating_books = rating_books.drop_duplicates(['title', 'user'])"
      ],
      "metadata": {
        "id": "tfa4nmE4cKt1"
      },
      "execution_count": 6,
      "outputs": []
    },
    {
      "cell_type": "code",
      "source": [
        "# Create a pivot table \n",
        "rating_books_pivot = pd.pivot_table(data = rating_books, index='title', columns='user', values='rating').fillna(0)"
      ],
      "metadata": {
        "id": "m7M6P77IYddr"
      },
      "execution_count": null,
      "outputs": []
    },
    {
      "cell_type": "code",
      "source": [
        "#rating_books_sample.head()"
      ],
      "metadata": {
        "id": "ti7x9QfncF2V"
      },
      "execution_count": null,
      "outputs": []
    },
    {
      "cell_type": "code",
      "source": [
        "# Import NearestNeighbors\n",
        "from sklearn.neighbors import NearestNeighbors\n",
        "\n",
        "# Build NearestNeighbors Object\n",
        "model_nn = NearestNeighbors(algorithm='auto', leaf_size=30, metric='cosine',\n",
        "                 metric_params=None, n_jobs=None, n_neighbors=5, p=2,\n",
        "                 radius=1.0)\n",
        "\n",
        "# Fit the NearestNeighbor\n",
        "model_nn.fit(rating_books)"
      ],
      "metadata": {
        "id": "pY0GhQCxeaiM"
      },
      "execution_count": null,
      "outputs": []
    },
    {
      "cell_type": "code",
      "source": [
        "# function to return recommended books - this will be tested\n",
        "def get_recommends(book):\n",
        "  book = rating_books[rating_books==book]\n",
        "  book = book.to_numpy().reshape(1,-1)\n",
        "  distances, indices=model_nn.kneighbors(book, n_neighbors=10)\n",
        "\n",
        "  recommended_books = []\n",
        "\n",
        "  for x in reversed(range(2, 7)): \n",
        "    bookrecommended = [rating_books_pivot.index[indices.flatten()[x]], distances.flatten()[x]]\n",
        "    recommended_books.append(bookrecommended)\n",
        "  recommended_books = [book, recommended_books]\n",
        "\n",
        "  return recommended_books\n"
      ],
      "metadata": {
        "id": "9Qi5dVKFLR2a"
      },
      "execution_count": null,
      "outputs": []
    },
    {
      "cell_type": "code",
      "source": [
        "get_recommends(\"The Queen of the Damned (Vampire Chronicles (Paperback))\")"
      ],
      "metadata": {
        "id": "vJYRaas1aMah"
      },
      "execution_count": null,
      "outputs": []
    },
    {
      "cell_type": "code",
      "source": [
        ""
      ],
      "metadata": {
        "id": "JbNJq0g4kCGn"
      },
      "execution_count": null,
      "outputs": []
    }
  ]
}